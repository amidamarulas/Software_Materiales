{
 "cells": [
  {
   "cell_type": "code",
   "execution_count": 3,
   "id": "73fc3ec4-a7e7-4455-96ef-fad07305c0fc",
   "metadata": {},
   "outputs": [
    {
     "name": "stdout",
     "output_type": "stream",
     "text": [
      "Collecting django\n",
      "  Downloading django-5.2.7-py3-none-any.whl.metadata (4.1 kB)\n",
      "Collecting psycopg2-binary\n",
      "  Downloading psycopg2_binary-2.9.10-cp313-cp313-manylinux_2_17_x86_64.manylinux2014_x86_64.whl.metadata (4.9 kB)\n",
      "Requirement already satisfied: matplotlib in /home/kevin/anaconda3/lib/python3.13/site-packages (3.10.0)\n",
      "Requirement already satisfied: plotly in /home/kevin/anaconda3/lib/python3.13/site-packages (5.24.1)\n",
      "Collecting asgiref>=3.8.1 (from django)\n",
      "  Downloading asgiref-3.9.2-py3-none-any.whl.metadata (9.3 kB)\n",
      "Collecting sqlparse>=0.3.1 (from django)\n",
      "  Downloading sqlparse-0.5.3-py3-none-any.whl.metadata (3.9 kB)\n",
      "Requirement already satisfied: contourpy>=1.0.1 in /home/kevin/anaconda3/lib/python3.13/site-packages (from matplotlib) (1.3.1)\n",
      "Requirement already satisfied: cycler>=0.10 in /home/kevin/anaconda3/lib/python3.13/site-packages (from matplotlib) (0.11.0)\n",
      "Requirement already satisfied: fonttools>=4.22.0 in /home/kevin/anaconda3/lib/python3.13/site-packages (from matplotlib) (4.55.3)\n",
      "Requirement already satisfied: kiwisolver>=1.3.1 in /home/kevin/anaconda3/lib/python3.13/site-packages (from matplotlib) (1.4.8)\n",
      "Requirement already satisfied: numpy>=1.23 in /home/kevin/anaconda3/lib/python3.13/site-packages (from matplotlib) (2.1.3)\n",
      "Requirement already satisfied: packaging>=20.0 in /home/kevin/anaconda3/lib/python3.13/site-packages (from matplotlib) (24.2)\n",
      "Requirement already satisfied: pillow>=8 in /home/kevin/anaconda3/lib/python3.13/site-packages (from matplotlib) (11.1.0)\n",
      "Requirement already satisfied: pyparsing>=2.3.1 in /home/kevin/anaconda3/lib/python3.13/site-packages (from matplotlib) (3.2.0)\n",
      "Requirement already satisfied: python-dateutil>=2.7 in /home/kevin/anaconda3/lib/python3.13/site-packages (from matplotlib) (2.9.0.post0)\n",
      "Requirement already satisfied: tenacity>=6.2.0 in /home/kevin/anaconda3/lib/python3.13/site-packages (from plotly) (9.0.0)\n",
      "Requirement already satisfied: six>=1.5 in /home/kevin/anaconda3/lib/python3.13/site-packages (from python-dateutil>=2.7->matplotlib) (1.17.0)\n",
      "Downloading django-5.2.7-py3-none-any.whl (8.3 MB)\n",
      "\u001b[2K   \u001b[38;2;114;156;31m━━━━━━━━━━━━━━━━━━━━━━━━━━━━━━━━━━━━━━━━\u001b[0m \u001b[32m8.3/8.3 MB\u001b[0m \u001b[31m13.6 MB/s\u001b[0m eta \u001b[36m0:00:00\u001b[0m31m14.0 MB/s\u001b[0m eta \u001b[36m0:00:01\u001b[0m\n",
      "Downloading psycopg2_binary-2.9.10-cp313-cp313-manylinux_2_17_x86_64.manylinux2014_x86_64.whl (3.0 MB)\n",
      "\u001b[2K   \u001b[38;2;114;156;31m━━━━━━━━━━━━━━━━━━━━━━━━━━━━━━━━━━━━━━━━\u001b[0m \u001b[32m3.0/3.0 MB\u001b[0m \u001b[31m15.6 MB/s\u001b[0m eta \u001b[36m0:00:00\u001b[0m MB/s\u001b[0m eta \u001b[36m0:00:01\u001b[0m\n",
      "\u001b[?25hDownloading asgiref-3.9.2-py3-none-any.whl (23 kB)\n",
      "Downloading sqlparse-0.5.3-py3-none-any.whl (44 kB)\n",
      "Installing collected packages: sqlparse, psycopg2-binary, asgiref, django\n",
      "\u001b[2K   \u001b[38;2;114;156;31m━━━━━━━━━━━━━━━━━━━━━━━━━━━━━━━━━━━━━━━━\u001b[0m \u001b[32m4/4\u001b[0m [django]━━━━\u001b[0m \u001b[32m3/4\u001b[0m [django]\n",
      "\u001b[1A\u001b[2KSuccessfully installed asgiref-3.9.2 django-5.2.7 psycopg2-binary-2.9.10 sqlparse-0.5.3\n"
     ]
    }
   ],
   "source": [
    "!{sys.executable} -m pip install django psycopg2-binary matplotlib plotly\n"
   ]
  },
  {
   "cell_type": "code",
   "execution_count": 4,
   "id": "8da4b98a-1d41-4c3f-ab80-ea9ed8b2b3ab",
   "metadata": {},
   "outputs": [
    {
     "name": "stdout",
     "output_type": "stream",
     "text": [
      "5.2.7\n"
     ]
    }
   ],
   "source": [
    "!{sys.executable} -m django --version\n"
   ]
  },
  {
   "cell_type": "code",
   "execution_count": 6,
   "id": "4a32d76c-0a14-46e3-96f3-c332d97bc7a3",
   "metadata": {},
   "outputs": [],
   "source": [
    "!python manage.py startapp app_materials\n",
    "!python manage.py startapp app_simulations\n",
    "!python manage.py startapp app_users\n"
   ]
  },
  {
   "cell_type": "code",
   "execution_count": null,
   "id": "36226ab8-a871-4662-a3d2-6a15a7aa61e4",
   "metadata": {},
   "outputs": [],
   "source": []
  }
 ],
 "metadata": {
  "kernelspec": {
   "display_name": "Python 3 (ipykernel)",
   "language": "python",
   "name": "python3"
  },
  "language_info": {
   "codemirror_mode": {
    "name": "ipython",
    "version": 3
   },
   "file_extension": ".py",
   "mimetype": "text/x-python",
   "name": "python",
   "nbconvert_exporter": "python",
   "pygments_lexer": "ipython3",
   "version": "3.13.5"
  }
 },
 "nbformat": 4,
 "nbformat_minor": 5
}
